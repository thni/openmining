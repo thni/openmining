{
 "cells": [
  {
   "cell_type": "code",
   "execution_count": 1,
   "metadata": {
    "collapsed": true
   },
   "outputs": [],
   "source": [
    "import pathlib\n",
    "\n",
    "import pandas as pd"
   ]
  },
  {
   "cell_type": "code",
   "execution_count": 2,
   "metadata": {
    "collapsed": true
   },
   "outputs": [],
   "source": [
    "data_dir = pathlib.Path(\"data\")\n",
    "csv_file = data_dir / \"Fisher.csv\""
   ]
  },
  {
   "cell_type": "code",
   "execution_count": 3,
   "metadata": {
    "collapsed": true
   },
   "outputs": [],
   "source": [
    "data = pd.read_csv(csv_file)"
   ]
  },
  {
   "cell_type": "code",
   "execution_count": 4,
   "metadata": {
    "collapsed": false
   },
   "outputs": [
    {
     "name": "stdout",
     "output_type": "stream",
     "text": [
      "     Type  PW  PL  SW  SL\n",
      "0       0   2  14  33  50\n",
      "1       1  24  56  31  67\n",
      "2       1  23  51  31  69\n",
      "3       0   2  10  36  46\n",
      "4       1  20  52  30  65\n",
      "5       1  19  51  27  58\n",
      "6       2  13  45  28  57\n",
      "7       2  16  47  33  63\n",
      "8       1  17  45  25  49\n",
      "9       2  14  47  32  70\n",
      "10      0   2  16  31  48\n",
      "11      1  19  50  25  63\n",
      "12      0   1  14  36  49\n",
      "13      0   2  13  32  44\n",
      "14      2  12  40  26  58\n",
      "15      1  18  49  27  63\n",
      "16      2  10  33  23  50\n",
      "17      0   2  16  38  51\n",
      "18      0   2  16  30  50\n",
      "19      1  21  56  28  64\n",
      "20      0   4  19  38  51\n",
      "21      0   2  14  30  49\n",
      "22      2  10  41  27  58\n",
      "23      2  15  45  29  60\n",
      "24      0   2  14  36  50\n",
      "25      1  19  51  27  58\n",
      "26      0   4  15  34  54\n",
      "27      1  18  55  31  64\n",
      "28      2  10  33  24  49\n",
      "29      0   2  14  42  55\n",
      "..    ...  ..  ..  ..  ..\n",
      "120     1  18  48  28  62\n",
      "121     2  15  45  30  56\n",
      "122     0   2  14  32  46\n",
      "123     0   4  15  44  57\n",
      "124     1  24  56  34  63\n",
      "125     1  16  58  30  72\n",
      "126     1  21  59  30  71\n",
      "127     1  18  56  29  63\n",
      "128     2  12  42  30  57\n",
      "129     1  23  69  26  77\n",
      "130     2  13  56  29  66\n",
      "131     0   2  15  34  52\n",
      "132     2  10  37  24  55\n",
      "133     0   2  15  31  46\n",
      "134     1  19  61  28  74\n",
      "135     0   3  13  35  50\n",
      "136     1  18  63  29  73\n",
      "137     2  15  47  31  67\n",
      "138     2  13  41  30  56\n",
      "139     2  13  43  29  64\n",
      "140     1  22  58  30  65\n",
      "141     0   3  14  35  51\n",
      "142     2  14  47  29  61\n",
      "143     1  19  53  27  64\n",
      "144     0   2  16  34  48\n",
      "145     1  20  50  25  57\n",
      "146     2  13  40  23  55\n",
      "147     0   2  17  34  54\n",
      "148     1  24  51  28  58\n",
      "149     0   2  15  37  53\n",
      "\n",
      "[150 rows x 5 columns]\n"
     ]
    }
   ],
   "source": [
    "print(data)"
   ]
  },
  {
   "cell_type": "code",
   "execution_count": null,
   "metadata": {
    "collapsed": true
   },
   "outputs": [],
   "source": []
  }
 ],
 "metadata": {
  "kernelspec": {
   "display_name": "Python 3",
   "language": "python",
   "name": "python3"
  },
  "language_info": {
   "codemirror_mode": {
    "name": "ipython",
    "version": 3
   },
   "file_extension": ".py",
   "mimetype": "text/x-python",
   "name": "python",
   "nbconvert_exporter": "python",
   "pygments_lexer": "ipython3",
   "version": "3.5.1"
  }
 },
 "nbformat": 4,
 "nbformat_minor": 0
}
