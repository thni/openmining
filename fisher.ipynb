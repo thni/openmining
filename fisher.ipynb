{
 "cells": [
  {
   "cell_type": "code",
   "execution_count": 10,
   "metadata": {
    "collapsed": true
   },
   "outputs": [],
   "source": [
    "import pathlib\n",
    "import numpy as np\n",
    "import pandas as pd"
   ]
  },
  {
   "cell_type": "code",
   "execution_count": 3,
   "metadata": {
    "collapsed": true
   },
   "outputs": [],
   "source": [
    "data_dir = pathlib.Path(\"data\")\n",
    "csv_file = data_dir / \"Fisher.csv\""
   ]
  },
  {
   "cell_type": "code",
   "execution_count": 4,
   "metadata": {
    "collapsed": true
   },
   "outputs": [],
   "source": [
    "data = pd.read_csv(csv_file)"
   ]
  },
  {
   "cell_type": "code",
   "execution_count": 24,
   "metadata": {
    "collapsed": true
   },
   "outputs": [
    {
     "name": "stdout",
     "output_type": "stream",
     "text": [
      "[127  24  28  94  74 136  88 117  29  25 133 105  70 131 124 130 100  16\n",
      "  67  97  64  90  32 120 110  11  89   9  84  53  38  10 122  85  20  96\n",
      " 141  17   0   1  99 125  55  91  15  13  51  35  63 140  56 129  47  34\n",
      "  58   3 119  73  60  22   8 135  79 118  68  54  14 106  76 123  46  77\n",
      "  49 104 139 107  69  37   5  81 132  75  36  26   7 126 112 142  19  93\n",
      "  78 137 138  33  86  95  27  40  72  59  12 121 149 128  57 108  82  71\n",
      " 148 147  52  18  92 144  98  42 143  80  45  39 113  50  21 114  62 103\n",
      "  43  65  66  44  23  83 146  30  41   2  31 109 116 101 111 134  87  61\n",
      "  48   6 145 102   4 115]\n"
     ]
    }
   ],
   "source": [
    "# Cross-validation\n",
    "number_of_rows = data.shape[0]"
   ]
  },
  {
   "cell_type": "code",
   "execution_count": 34,
   "metadata": {
    "collapsed": false
   },
   "outputs": [
    {
     "name": "stdout",
     "output_type": "stream",
     "text": [
      "[0, 2, 4, 7, 11]\n",
      "[1, 3, 5, 6, 8, 9, 10, 12, 13, 14]\n"
     ]
    }
   ],
   "source": [
    "class CrossValidation:\n",
    "    def __init__(self, n, kfolds):\n",
    "        self.indices = np.random.permutation(n)\n",
    "        self.cards = [n//kfolds for i in range(kfolds)]\n",
    "        self.n = n\n",
    "        self.kfolds=kfolds\n",
    "        \n",
    "    def learning_indices(self, index):\n",
    "        test_indices = set(self.test_indices(index))\n",
    "        all_indices = set(self.indices)\n",
    "        return list(all_indices - test_indices)\n",
    "        \n",
    "    def test_indices(self, index):\n",
    "        nitems = self.cards[index]\n",
    "        debut = nitems * index\n",
    "        fin = min(nitems*(index+1),self.n)\n",
    "        return sorted(self.indices[debut:fin])\n",
    "        \n",
    "#cv = CrossValidation(number_of_rows, 10)\n",
    "cv = CrossValidation(15, 3)\n",
    "print( cv.test_indices(1) )\n",
    "print( cv.learning_indices(1))"
   ]
  },
  {
   "cell_type": "code",
   "execution_count": null,
   "metadata": {
    "collapsed": true
   },
   "outputs": [],
   "source": []
  }
 ],
 "metadata": {
  "kernelspec": {
   "display_name": "Python 3",
   "language": "python",
   "name": "python3"
  },
  "language_info": {
   "codemirror_mode": {
    "name": "ipython",
    "version": 3
   },
   "file_extension": ".py",
   "mimetype": "text/x-python",
   "name": "python",
   "nbconvert_exporter": "python",
   "pygments_lexer": "ipython3",
   "version": "3.5.1"
  }
 },
 "nbformat": 4,
 "nbformat_minor": 0
}
